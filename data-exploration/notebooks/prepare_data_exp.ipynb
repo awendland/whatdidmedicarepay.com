{
 "cells": [
  {
   "cell_type": "code",
   "execution_count": 9,
   "id": "considered-glossary",
   "metadata": {},
   "outputs": [
    {
     "name": "stdout",
     "output_type": "stream",
     "text": [
      "'../data_exp.db' exists\n",
      "Created indices\n",
      "Removed malformed copyright row\n"
     ]
    }
   ],
   "source": [
    "%%bash\n",
    "\n",
    "DB=\"../data_exp.db\"\n",
    "\n",
    "if test -f \"$DB\"; then\n",
    "    echo \"'$DB' exists\"\n",
    "else\n",
    "    cp \"../../data/data.db\" \"$DB\"\n",
    "fi\n",
    "\n",
    "sqlite3 \"$DB\" \"CREATE INDEX IF NOT EXISTS index_npi ON PUP_data (npi)\"\n",
    "sqlite3 \"$DB\" \"CREATE INDEX IF NOT EXISTS index_hcpcs_code ON PUP_data (hcpcs_code)\"\n",
    "sqlite3 \"$DB\" \"CREATE INDEX IF NOT EXISTS index_pos ON PUP_data (place_of_service)\"\n",
    "sqlite3 \"$DB\" \"CREATE INDEX IF NOT EXISTS index_short_zip ON PUP_data (substr(nppes_provider_zip, 0, 6))\"\n",
    "echo \"Created indices\"\n",
    "\n",
    "sqlite3 \"$DB\" \"DELETE FROM PUP_data WHERE npi = '0000000001'\"\n",
    "echo \"Removed malformed copyright row\""
   ]
  },
  {
   "cell_type": "code",
   "execution_count": null,
   "id": "communist-officer",
   "metadata": {},
   "outputs": [],
   "source": []
  }
 ],
 "metadata": {
  "kernelspec": {
   "display_name": "Python 3",
   "language": "python",
   "name": "python3"
  },
  "language_info": {
   "codemirror_mode": {
    "name": "ipython",
    "version": 3
   },
   "file_extension": ".py",
   "mimetype": "text/x-python",
   "name": "python",
   "nbconvert_exporter": "python",
   "pygments_lexer": "ipython3",
   "version": "3.9.0"
  }
 },
 "nbformat": 4,
 "nbformat_minor": 5
}
